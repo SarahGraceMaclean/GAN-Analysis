{
  "nbformat": 4,
  "nbformat_minor": 0,
  "metadata": {
    "colab": {
      "name": "Splitting Image and Super Resolution.ipynb",
      "version": "0.3.2",
      "provenance": [],
      "include_colab_link": true
    },
    "kernelspec": {
      "name": "python3",
      "display_name": "Python 3"
    }
  },
  "cells": [
    {
      "cell_type": "markdown",
      "metadata": {
        "id": "view-in-github",
        "colab_type": "text"
      },
      "source": [
        "<a href=\"https://colab.research.google.com/github/SarahGraceMaclean/GAN-Analysis/blob/master/Splitting_Image_and_Super_Resolution.ipynb\" target=\"_parent\"><img src=\"https://colab.research.google.com/assets/colab-badge.svg\" alt=\"Open In Colab\"/></a>"
      ]
    },
    {
      "cell_type": "code",
      "metadata": {
        "id": "2ZpY7LdopnOC",
        "colab_type": "code",
        "outputId": "54ad9936-98ca-4e43-a4d5-057e1d5ae422",
        "colab": {
          "base_uri": "https://localhost:8080/",
          "height": 128
        }
      },
      "source": [
        "# Mount Google Drive\n",
        "from google.colab import drive\n",
        "drive.mount('/content/drive/')\n",
        "\n",
        "import os\n",
        "os.chdir(\"drive/My Drive/\")"
      ],
      "execution_count": 1,
      "outputs": [
        {
          "output_type": "stream",
          "text": [
            "Go to this URL in a browser: https://accounts.google.com/o/oauth2/auth?client_id=947318989803-6bn6qk8qdgf4n4g3pfee6491hc0brc4i.apps.googleusercontent.com&redirect_uri=urn%3Aietf%3Awg%3Aoauth%3A2.0%3Aoob&scope=email%20https%3A%2F%2Fwww.googleapis.com%2Fauth%2Fdocs.test%20https%3A%2F%2Fwww.googleapis.com%2Fauth%2Fdrive%20https%3A%2F%2Fwww.googleapis.com%2Fauth%2Fdrive.photos.readonly%20https%3A%2F%2Fwww.googleapis.com%2Fauth%2Fpeopleapi.readonly&response_type=code\n",
            "\n",
            "Enter your authorization code:\n",
            "··········\n",
            "Mounted at /content/drive/\n"
          ],
          "name": "stdout"
        }
      ]
    },
    {
      "cell_type": "markdown",
      "metadata": {
        "id": "O7PYKqb91_wO",
        "colab_type": "text"
      },
      "source": [
        "# Split Image"
      ]
    },
    {
      "cell_type": "code",
      "metadata": {
        "id": "7As9cbLopSHj",
        "colab_type": "code",
        "outputId": "367b82ca-7502-4eba-be4c-4ef26e7a829d",
        "colab": {
          "base_uri": "https://localhost:8080/",
          "height": 237
        }
      },
      "source": [
        "!pip install image_slicer"
      ],
      "execution_count": 2,
      "outputs": [
        {
          "output_type": "stream",
          "text": [
            "Collecting image_slicer\n",
            "\u001b[?25l  Downloading https://files.pythonhosted.org/packages/8b/95/7b99cafa4be846f270c515cbeb090dd8a7425e4491b46c4342ad66f750f5/image_slicer-0.2.0.tar.gz (88kB)\n",
            "\u001b[K     |████████████████████████████████| 92kB 6.0MB/s \n",
            "\u001b[?25hRequirement already satisfied: Pillow>=4.0.0 in /usr/local/lib/python3.6/dist-packages (from image_slicer) (4.3.0)\n",
            "Requirement already satisfied: olefile in /usr/local/lib/python3.6/dist-packages (from Pillow>=4.0.0->image_slicer) (0.46)\n",
            "Building wheels for collected packages: image-slicer\n",
            "  Building wheel for image-slicer (setup.py) ... \u001b[?25l\u001b[?25hdone\n",
            "  Stored in directory: /root/.cache/pip/wheels/9b/d5/17/dd822b462a190ec86ad9fd43b455627a2265bb2dfa58af3841\n",
            "Successfully built image-slicer\n",
            "Installing collected packages: image-slicer\n",
            "Successfully installed image-slicer-0.2.0\n"
          ],
          "name": "stdout"
        }
      ]
    },
    {
      "cell_type": "code",
      "metadata": {
        "id": "Y8xadUfTqFJE",
        "colab_type": "code",
        "outputId": "da7e7339-b17f-4b30-a852-9a98af7c7250",
        "colab": {
          "base_uri": "https://localhost:8080/",
          "height": 308
        }
      },
      "source": [
        "import image_slicer\n",
        "image = 'fake-toofar'\n",
        "tiles = image_slicer.slice('Single Images/'+ image + '.png', 2)\n",
        "tiles1 = image_slicer.slice('Single Images/'+ image + '_01_01.png', 16,save=False)\n",
        "image_slicer.save_tiles(tiles1, directory='/content/drive/My Drive/Single Images/Fake_toofar', prefix='1')\n",
        "tiles2 = image_slicer.slice('Single Images/'+ image +'_01_02.png', 16,save=False)\n",
        "image_slicer.save_tiles(tiles2, directory='/content/drive/My Drive/Single Images/Fake_toofar', prefix='2')"
      ],
      "execution_count": 7,
      "outputs": [
        {
          "output_type": "execute_result",
          "data": {
            "text/plain": [
              "(<Tile #1 - 2_01_01.png>,\n",
              " <Tile #2 - 2_01_02.png>,\n",
              " <Tile #3 - 2_01_03.png>,\n",
              " <Tile #4 - 2_01_04.png>,\n",
              " <Tile #5 - 2_02_01.png>,\n",
              " <Tile #6 - 2_02_02.png>,\n",
              " <Tile #7 - 2_02_03.png>,\n",
              " <Tile #8 - 2_02_04.png>,\n",
              " <Tile #9 - 2_03_01.png>,\n",
              " <Tile #10 - 2_03_02.png>,\n",
              " <Tile #11 - 2_03_03.png>,\n",
              " <Tile #12 - 2_03_04.png>,\n",
              " <Tile #13 - 2_04_01.png>,\n",
              " <Tile #14 - 2_04_02.png>,\n",
              " <Tile #15 - 2_04_03.png>,\n",
              " <Tile #16 - 2_04_04.png>)"
            ]
          },
          "metadata": {
            "tags": []
          },
          "execution_count": 7
        }
      ]
    },
    {
      "cell_type": "markdown",
      "metadata": {
        "id": "sTekvc8p2EST",
        "colab_type": "text"
      },
      "source": [
        "# Super Resolution\n"
      ]
    },
    {
      "cell_type": "code",
      "metadata": {
        "id": "1PJ_zPSM2MN1",
        "colab_type": "code",
        "outputId": "f30d30e2-6b9f-4e73-8f7c-32a0316565ed",
        "colab": {
          "base_uri": "https://localhost:8080/",
          "height": 1000
        }
      },
      "source": [
        "!pip install ISR"
      ],
      "execution_count": 0,
      "outputs": [
        {
          "output_type": "stream",
          "text": [
            "Collecting ISR\n",
            "  Downloading https://files.pythonhosted.org/packages/d6/c3/7e6d659870e9a2a5f5a529ecc3f71f6387ee41aa5c486fc9f023f6cdea1f/ISR-2.1-py3-none-any.whl\n",
            "Requirement already satisfied: tqdm in /usr/local/lib/python3.6/dist-packages (from ISR) (4.28.1)\n",
            "Requirement already satisfied: imageio in /usr/local/lib/python3.6/dist-packages (from ISR) (2.4.1)\n",
            "Collecting tensorflow==1.13.1 (from ISR)\n",
            "\u001b[?25l  Downloading https://files.pythonhosted.org/packages/77/63/a9fa76de8dffe7455304c4ed635be4aa9c0bacef6e0633d87d5f54530c5c/tensorflow-1.13.1-cp36-cp36m-manylinux1_x86_64.whl (92.5MB)\n",
            "\u001b[K     |████████████████████████████████| 92.5MB 1.3MB/s \n",
            "\u001b[?25hCollecting numpy==1.16.2 (from ISR)\n",
            "\u001b[?25l  Downloading https://files.pythonhosted.org/packages/35/d5/4f8410ac303e690144f0a0603c4b8fd3b986feb2749c435f7cdbb288f17e/numpy-1.16.2-cp36-cp36m-manylinux1_x86_64.whl (17.3MB)\n",
            "\u001b[K     |████████████████████████████████| 17.3MB 28.8MB/s \n",
            "\u001b[?25hRequirement already satisfied: Keras==2.2.4 in /usr/local/lib/python3.6/dist-packages (from ISR) (2.2.4)\n",
            "Requirement already satisfied: pillow in /usr/local/lib/python3.6/dist-packages (from imageio->ISR) (4.3.0)\n",
            "Requirement already satisfied: protobuf>=3.6.1 in /usr/local/lib/python3.6/dist-packages (from tensorflow==1.13.1->ISR) (3.7.1)\n",
            "Requirement already satisfied: keras-preprocessing>=1.0.5 in /usr/local/lib/python3.6/dist-packages (from tensorflow==1.13.1->ISR) (1.1.0)\n",
            "Requirement already satisfied: astor>=0.6.0 in /usr/local/lib/python3.6/dist-packages (from tensorflow==1.13.1->ISR) (0.8.0)\n",
            "Collecting tensorflow-estimator<1.14.0rc0,>=1.13.0 (from tensorflow==1.13.1->ISR)\n",
            "\u001b[?25l  Downloading https://files.pythonhosted.org/packages/bb/48/13f49fc3fa0fdf916aa1419013bb8f2ad09674c275b4046d5ee669a46873/tensorflow_estimator-1.13.0-py2.py3-none-any.whl (367kB)\n",
            "\u001b[K     |████████████████████████████████| 368kB 7.6MB/s \n",
            "\u001b[?25hRequirement already satisfied: wheel>=0.26 in /usr/local/lib/python3.6/dist-packages (from tensorflow==1.13.1->ISR) (0.33.4)\n",
            "Requirement already satisfied: absl-py>=0.1.6 in /usr/local/lib/python3.6/dist-packages (from tensorflow==1.13.1->ISR) (0.7.1)\n",
            "Requirement already satisfied: grpcio>=1.8.6 in /usr/local/lib/python3.6/dist-packages (from tensorflow==1.13.1->ISR) (1.15.0)\n",
            "Requirement already satisfied: six>=1.10.0 in /usr/local/lib/python3.6/dist-packages (from tensorflow==1.13.1->ISR) (1.12.0)\n",
            "Requirement already satisfied: termcolor>=1.1.0 in /usr/local/lib/python3.6/dist-packages (from tensorflow==1.13.1->ISR) (1.1.0)\n",
            "Collecting tensorboard<1.14.0,>=1.13.0 (from tensorflow==1.13.1->ISR)\n",
            "\u001b[?25l  Downloading https://files.pythonhosted.org/packages/0f/39/bdd75b08a6fba41f098b6cb091b9e8c7a80e1b4d679a581a0ccd17b10373/tensorboard-1.13.1-py3-none-any.whl (3.2MB)\n",
            "\u001b[K     |████████████████████████████████| 3.2MB 32.0MB/s \n",
            "\u001b[?25hRequirement already satisfied: keras-applications>=1.0.6 in /usr/local/lib/python3.6/dist-packages (from tensorflow==1.13.1->ISR) (1.0.8)\n",
            "Requirement already satisfied: gast>=0.2.0 in /usr/local/lib/python3.6/dist-packages (from tensorflow==1.13.1->ISR) (0.2.2)\n",
            "Requirement already satisfied: scipy>=0.14 in /usr/local/lib/python3.6/dist-packages (from Keras==2.2.4->ISR) (1.3.0)\n",
            "Requirement already satisfied: h5py in /usr/local/lib/python3.6/dist-packages (from Keras==2.2.4->ISR) (2.8.0)\n",
            "Requirement already satisfied: pyyaml in /usr/local/lib/python3.6/dist-packages (from Keras==2.2.4->ISR) (3.13)\n",
            "Requirement already satisfied: olefile in /usr/local/lib/python3.6/dist-packages (from pillow->imageio->ISR) (0.46)\n",
            "Requirement already satisfied: setuptools in /usr/local/lib/python3.6/dist-packages (from protobuf>=3.6.1->tensorflow==1.13.1->ISR) (41.0.1)\n",
            "Collecting mock>=2.0.0 (from tensorflow-estimator<1.14.0rc0,>=1.13.0->tensorflow==1.13.1->ISR)\n",
            "  Downloading https://files.pythonhosted.org/packages/05/d2/f94e68be6b17f46d2c353564da56e6fb89ef09faeeff3313a046cb810ca9/mock-3.0.5-py2.py3-none-any.whl\n",
            "Requirement already satisfied: werkzeug>=0.11.15 in /usr/local/lib/python3.6/dist-packages (from tensorboard<1.14.0,>=1.13.0->tensorflow==1.13.1->ISR) (0.15.5)\n",
            "Requirement already satisfied: markdown>=2.6.8 in /usr/local/lib/python3.6/dist-packages (from tensorboard<1.14.0,>=1.13.0->tensorflow==1.13.1->ISR) (3.1.1)\n",
            "\u001b[31mERROR: datascience 0.10.6 has requirement folium==0.2.1, but you'll have folium 0.8.3 which is incompatible.\u001b[0m\n",
            "\u001b[31mERROR: albumentations 0.1.12 has requirement imgaug<0.2.7,>=0.2.5, but you'll have imgaug 0.2.9 which is incompatible.\u001b[0m\n",
            "Installing collected packages: mock, numpy, tensorflow-estimator, tensorboard, tensorflow, ISR\n",
            "  Found existing installation: numpy 1.16.4\n",
            "    Uninstalling numpy-1.16.4:\n",
            "      Successfully uninstalled numpy-1.16.4\n",
            "  Found existing installation: tensorflow-estimator 1.14.0\n",
            "    Uninstalling tensorflow-estimator-1.14.0:\n",
            "      Successfully uninstalled tensorflow-estimator-1.14.0\n",
            "  Found existing installation: tensorboard 1.14.0\n",
            "    Uninstalling tensorboard-1.14.0:\n",
            "      Successfully uninstalled tensorboard-1.14.0\n",
            "  Found existing installation: tensorflow 1.14.0\n",
            "    Uninstalling tensorflow-1.14.0:\n",
            "      Successfully uninstalled tensorflow-1.14.0\n",
            "Successfully installed ISR-2.1 mock-3.0.5 numpy-1.16.2 tensorboard-1.13.1 tensorflow-1.13.1 tensorflow-estimator-1.13.0\n"
          ],
          "name": "stdout"
        },
        {
          "output_type": "display_data",
          "data": {
            "application/vnd.colab-display-data+json": {
              "pip_warning": {
                "packages": [
                  "numpy"
                ]
              }
            }
          },
          "metadata": {
            "tags": []
          }
        }
      ]
    },
    {
      "cell_type": "code",
      "metadata": {
        "id": "F_m8zyup2Mvd",
        "colab_type": "code",
        "colab": {}
      },
      "source": [
        "import numpy as np\n",
        "from PIL import Image"
      ],
      "execution_count": 0,
      "outputs": []
    },
    {
      "cell_type": "code",
      "metadata": {
        "id": "Y4hq7asi2SUs",
        "colab_type": "code",
        "outputId": "7a1d0802-2bc0-4380-d9db-806ac9348faa",
        "colab": {
          "base_uri": "https://localhost:8080/",
          "height": 110
        }
      },
      "source": [
        "from ISR.models import RDN\n",
        "rdn = RDN(arch_params={'C': 6, 'D':20, 'G':64, 'G0':64, 'x':2})"
      ],
      "execution_count": 0,
      "outputs": [
        {
          "output_type": "stream",
          "text": [
            "Using TensorFlow backend.\n"
          ],
          "name": "stderr"
        },
        {
          "output_type": "stream",
          "text": [
            "WARNING:tensorflow:From /usr/local/lib/python3.6/dist-packages/tensorflow/python/framework/op_def_library.py:263: colocate_with (from tensorflow.python.framework.ops) is deprecated and will be removed in a future version.\n",
            "Instructions for updating:\n",
            "Colocations handled automatically by placer.\n"
          ],
          "name": "stdout"
        }
      ]
    },
    {
      "cell_type": "code",
      "metadata": {
        "id": "WJJ-rZLn2GfD",
        "colab_type": "code",
        "outputId": "99ee0474-8bd9-45ef-dded-0daf343525a4",
        "colab": {
          "base_uri": "https://localhost:8080/",
          "height": 1000
        }
      },
      "source": [
        "from ISR.predict import Predictor\n",
        "predictor = Predictor(input_dir='/content/drive/My Drive/Single Images/Fake/', output_dir ='/content/drive/My Drive/Single Images/Fake SR')\n",
        "predictor.get_predictions(model=rdn, weights_path='weights/rdn-C6-D20-G64-G064-x2_ArtefactCancelling_epoch219.hdf5')"
      ],
      "execution_count": 0,
      "outputs": [
        {
          "output_type": "stream",
          "text": [
            "Creating output directory:\n",
            "/content/drive/My Drive/Single Images/Fake SR/Fake\n",
            "Loaded weights from \n",
            " > weights/rdn-C6-D20-G64-G064-x2_ArtefactCancelling_epoch219.hdf5\n",
            "Could not find weights training configuration\n",
            "Results in:\n",
            " > /content/drive/My Drive/Single Images/Fake SR/Fake/rdn-C6-D20-G64-G064-x2/2019-07-23_13:01\n",
            "Processing file\n",
            " > /content/drive/My Drive/Single Images/Fake/1_01_01.png\n",
            "Elapsed time: 4.894366979598999s\n",
            "Result in: /content/drive/My Drive/Single Images/Fake SR/Fake/rdn-C6-D20-G64-G064-x2/2019-07-23_13:01/1_01_01.png\n",
            "Processing file\n",
            " > /content/drive/My Drive/Single Images/Fake/1_01_02.png\n",
            "Elapsed time: 4.854058265686035s\n",
            "Result in: /content/drive/My Drive/Single Images/Fake SR/Fake/rdn-C6-D20-G64-G064-x2/2019-07-23_13:01/1_01_02.png\n",
            "Processing file\n",
            " > /content/drive/My Drive/Single Images/Fake/1_01_03.png\n",
            "Elapsed time: 4.893287420272827s\n",
            "Result in: /content/drive/My Drive/Single Images/Fake SR/Fake/rdn-C6-D20-G64-G064-x2/2019-07-23_13:01/1_01_03.png\n",
            "Processing file\n",
            " > /content/drive/My Drive/Single Images/Fake/1_01_04.png\n",
            "Elapsed time: 4.852701425552368s\n",
            "Result in: /content/drive/My Drive/Single Images/Fake SR/Fake/rdn-C6-D20-G64-G064-x2/2019-07-23_13:01/1_01_04.png\n",
            "Processing file\n",
            " > /content/drive/My Drive/Single Images/Fake/1_02_01.png\n",
            "Elapsed time: 4.892557382583618s\n",
            "Result in: /content/drive/My Drive/Single Images/Fake SR/Fake/rdn-C6-D20-G64-G064-x2/2019-07-23_13:01/1_02_01.png\n",
            "Processing file\n",
            " > /content/drive/My Drive/Single Images/Fake/1_02_02.png\n",
            "Elapsed time: 4.814702272415161s\n",
            "Result in: /content/drive/My Drive/Single Images/Fake SR/Fake/rdn-C6-D20-G64-G064-x2/2019-07-23_13:01/1_02_02.png\n",
            "Processing file\n",
            " > /content/drive/My Drive/Single Images/Fake/1_02_03.png\n",
            "Elapsed time: 4.8637855052948s\n",
            "Result in: /content/drive/My Drive/Single Images/Fake SR/Fake/rdn-C6-D20-G64-G064-x2/2019-07-23_13:01/1_02_03.png\n",
            "Processing file\n",
            " > /content/drive/My Drive/Single Images/Fake/1_02_04.png\n",
            "Elapsed time: 4.832205533981323s\n",
            "Result in: /content/drive/My Drive/Single Images/Fake SR/Fake/rdn-C6-D20-G64-G064-x2/2019-07-23_13:01/1_02_04.png\n",
            "Processing file\n",
            " > /content/drive/My Drive/Single Images/Fake/1_03_01.png\n",
            "Elapsed time: 4.883723974227905s\n",
            "Result in: /content/drive/My Drive/Single Images/Fake SR/Fake/rdn-C6-D20-G64-G064-x2/2019-07-23_13:01/1_03_01.png\n",
            "Processing file\n",
            " > /content/drive/My Drive/Single Images/Fake/1_03_02.png\n",
            "Elapsed time: 4.804560661315918s\n",
            "Result in: /content/drive/My Drive/Single Images/Fake SR/Fake/rdn-C6-D20-G64-G064-x2/2019-07-23_13:01/1_03_02.png\n",
            "Processing file\n",
            " > /content/drive/My Drive/Single Images/Fake/1_03_03.png\n",
            "Elapsed time: 4.870672941207886s\n",
            "Result in: /content/drive/My Drive/Single Images/Fake SR/Fake/rdn-C6-D20-G64-G064-x2/2019-07-23_13:01/1_03_03.png\n",
            "Processing file\n",
            " > /content/drive/My Drive/Single Images/Fake/1_03_04.png\n",
            "Elapsed time: 4.8851282596588135s\n",
            "Result in: /content/drive/My Drive/Single Images/Fake SR/Fake/rdn-C6-D20-G64-G064-x2/2019-07-23_13:01/1_03_04.png\n",
            "Processing file\n",
            " > /content/drive/My Drive/Single Images/Fake/1_04_01.png\n",
            "Elapsed time: 4.9260406494140625s\n",
            "Result in: /content/drive/My Drive/Single Images/Fake SR/Fake/rdn-C6-D20-G64-G064-x2/2019-07-23_13:01/1_04_01.png\n",
            "Processing file\n",
            " > /content/drive/My Drive/Single Images/Fake/1_04_02.png\n",
            "Elapsed time: 4.854660511016846s\n",
            "Result in: /content/drive/My Drive/Single Images/Fake SR/Fake/rdn-C6-D20-G64-G064-x2/2019-07-23_13:01/1_04_02.png\n",
            "Processing file\n",
            " > /content/drive/My Drive/Single Images/Fake/1_04_03.png\n",
            "Elapsed time: 4.878162622451782s\n",
            "Result in: /content/drive/My Drive/Single Images/Fake SR/Fake/rdn-C6-D20-G64-G064-x2/2019-07-23_13:01/1_04_03.png\n",
            "Processing file\n",
            " > /content/drive/My Drive/Single Images/Fake/1_04_04.png\n",
            "Elapsed time: 4.822452545166016s\n",
            "Result in: /content/drive/My Drive/Single Images/Fake SR/Fake/rdn-C6-D20-G64-G064-x2/2019-07-23_13:01/1_04_04.png\n",
            "Processing file\n",
            " > /content/drive/My Drive/Single Images/Fake/2_01_01.png\n",
            "Elapsed time: 4.833943128585815s\n",
            "Result in: /content/drive/My Drive/Single Images/Fake SR/Fake/rdn-C6-D20-G64-G064-x2/2019-07-23_13:01/2_01_01.png\n",
            "Processing file\n",
            " > /content/drive/My Drive/Single Images/Fake/2_01_02.png\n",
            "Elapsed time: 4.830528020858765s\n",
            "Result in: /content/drive/My Drive/Single Images/Fake SR/Fake/rdn-C6-D20-G64-G064-x2/2019-07-23_13:01/2_01_02.png\n",
            "Processing file\n",
            " > /content/drive/My Drive/Single Images/Fake/2_01_03.png\n",
            "Elapsed time: 4.839745759963989s\n",
            "Result in: /content/drive/My Drive/Single Images/Fake SR/Fake/rdn-C6-D20-G64-G064-x2/2019-07-23_13:01/2_01_03.png\n",
            "Processing file\n",
            " > /content/drive/My Drive/Single Images/Fake/2_01_04.png\n",
            "Elapsed time: 4.871783971786499s\n",
            "Result in: /content/drive/My Drive/Single Images/Fake SR/Fake/rdn-C6-D20-G64-G064-x2/2019-07-23_13:01/2_01_04.png\n",
            "Processing file\n",
            " > /content/drive/My Drive/Single Images/Fake/2_02_01.png\n",
            "Elapsed time: 4.829818487167358s\n",
            "Result in: /content/drive/My Drive/Single Images/Fake SR/Fake/rdn-C6-D20-G64-G064-x2/2019-07-23_13:01/2_02_01.png\n",
            "Processing file\n",
            " > /content/drive/My Drive/Single Images/Fake/2_02_02.png\n",
            "Elapsed time: 4.870103120803833s\n",
            "Result in: /content/drive/My Drive/Single Images/Fake SR/Fake/rdn-C6-D20-G64-G064-x2/2019-07-23_13:01/2_02_02.png\n",
            "Processing file\n",
            " > /content/drive/My Drive/Single Images/Fake/2_02_03.png\n",
            "Elapsed time: 4.848567247390747s\n",
            "Result in: /content/drive/My Drive/Single Images/Fake SR/Fake/rdn-C6-D20-G64-G064-x2/2019-07-23_13:01/2_02_03.png\n",
            "Processing file\n",
            " > /content/drive/My Drive/Single Images/Fake/2_02_04.png\n",
            "Elapsed time: 4.853174209594727s\n",
            "Result in: /content/drive/My Drive/Single Images/Fake SR/Fake/rdn-C6-D20-G64-G064-x2/2019-07-23_13:01/2_02_04.png\n",
            "Processing file\n",
            " > /content/drive/My Drive/Single Images/Fake/2_03_01.png\n",
            "Elapsed time: 4.829278230667114s\n",
            "Result in: /content/drive/My Drive/Single Images/Fake SR/Fake/rdn-C6-D20-G64-G064-x2/2019-07-23_13:01/2_03_01.png\n",
            "Processing file\n",
            " > /content/drive/My Drive/Single Images/Fake/2_03_02.png\n",
            "Elapsed time: 4.92009162902832s\n",
            "Result in: /content/drive/My Drive/Single Images/Fake SR/Fake/rdn-C6-D20-G64-G064-x2/2019-07-23_13:01/2_03_02.png\n",
            "Processing file\n",
            " > /content/drive/My Drive/Single Images/Fake/2_03_03.png\n",
            "Elapsed time: 4.854018688201904s\n",
            "Result in: /content/drive/My Drive/Single Images/Fake SR/Fake/rdn-C6-D20-G64-G064-x2/2019-07-23_13:01/2_03_03.png\n",
            "Processing file\n",
            " > /content/drive/My Drive/Single Images/Fake/2_03_04.png\n",
            "Elapsed time: 4.907182455062866s\n",
            "Result in: /content/drive/My Drive/Single Images/Fake SR/Fake/rdn-C6-D20-G64-G064-x2/2019-07-23_13:01/2_03_04.png\n",
            "Processing file\n",
            " > /content/drive/My Drive/Single Images/Fake/2_04_01.png\n",
            "Elapsed time: 4.86121678352356s\n",
            "Result in: /content/drive/My Drive/Single Images/Fake SR/Fake/rdn-C6-D20-G64-G064-x2/2019-07-23_13:01/2_04_01.png\n",
            "Processing file\n",
            " > /content/drive/My Drive/Single Images/Fake/2_04_02.png\n",
            "Elapsed time: 4.846521377563477s\n",
            "Result in: /content/drive/My Drive/Single Images/Fake SR/Fake/rdn-C6-D20-G64-G064-x2/2019-07-23_13:01/2_04_02.png\n",
            "Processing file\n",
            " > /content/drive/My Drive/Single Images/Fake/2_04_03.png\n",
            "Elapsed time: 4.861587047576904s\n",
            "Result in: /content/drive/My Drive/Single Images/Fake SR/Fake/rdn-C6-D20-G64-G064-x2/2019-07-23_13:01/2_04_03.png\n",
            "Processing file\n",
            " > /content/drive/My Drive/Single Images/Fake/2_04_04.png\n",
            "Elapsed time: 4.848990201950073s\n",
            "Result in: /content/drive/My Drive/Single Images/Fake SR/Fake/rdn-C6-D20-G64-G064-x2/2019-07-23_13:01/2_04_04.png\n"
          ],
          "name": "stderr"
        }
      ]
    }
  ]
}